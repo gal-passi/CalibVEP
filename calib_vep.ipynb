{
 "cells": [
  {
   "cell_type": "code",
   "execution_count": 3,
   "id": "88cc4f83",
   "metadata": {},
   "outputs": [],
   "source": [
    "%load_ext autoreload\n",
    "%autoreload 2"
   ]
  },
  {
   "cell_type": "code",
   "execution_count": 4,
   "id": "5ffe763b",
   "metadata": {},
   "outputs": [],
   "source": [
    "import os\n",
    "os.chdir(r\"C:\\Users\\sapir\\out_of_onedrive\\dina\\CalibVEP\")"
   ]
  },
  {
   "cell_type": "code",
   "execution_count": 5,
   "id": "3ae4a120",
   "metadata": {},
   "outputs": [
    {
     "name": "stderr",
     "output_type": "stream",
     "text": [
      "c:\\Users\\sapir\\anaconda3\\envs\\env_image_processing\\Lib\\site-packages\\tqdm\\auto.py:21: TqdmWarning: IProgress not found. Please update jupyter and ipywidgets. See https://ipywidgets.readthedocs.io/en/stable/user_install.html\n",
      "  from .autonotebook import tqdm as notebook_tqdm\n"
     ]
    }
   ],
   "source": [
    "import utils\n",
    "import definitions as d\n",
    "import torch\n",
    "from data_classes import METHODS_TO_ESM, MutationVariantSet\n",
    "from mutation_record import MutationRecord\n",
    "from utils import is_disordered\n",
    "from load_cluster_lookup import get_cluster_sizes_of_sequence\n"
   ]
  },
  {
   "cell_type": "code",
   "execution_count": null,
   "id": "6afdb787",
   "metadata": {},
   "outputs": [],
   "source": []
  },
  {
   "cell_type": "code",
   "execution_count": null,
   "id": "208e4a26",
   "metadata": {},
   "outputs": [],
   "source": [
    "import pickle\n",
    "\n",
    "import numpy as np\n",
    "\n",
    "        \n",
    "\n",
    "\n",
    "\n",
    "def get_pathogenic_percentage(tree_path_key: str, leaf_best_scores: dict, bins_dict: dict) -> tuple[str, float]:\n",
    "    \"\"\"Get the pathogenic percentage for a mutation based on its tree path key.\n",
    "\n",
    "    Args:\n",
    "        tree_path_key (str): The key representing the tree path for the mutation.\n",
    "        leaf_best_scores (dict): A dictionary containing the best scores for each tree path.\n",
    "        bins_dict (dict): A dictionary containing bin information for each tree path.\n",
    "\n",
    "    Returns:\n",
    "        tuple[str, float]: A tuple containing the bin index as a string and the pathogenic percentage.\n",
    "    \"\"\"\n",
    "    bin_key, score_llr = leaf_best_scores[tree_path_key]\n",
    "\n",
    "    # Get the bin information\n",
    "    bin_info = bins_dict[tree_path_key][bin_key]\n",
    "    bin_edges = np.array(bin_info['bin_edges'])\n",
    "    bin_stats = bin_info['bin_stats']\n",
    "\n",
    "    # Find which bin the score falls into\n",
    "    bin_index = np.digitize(score_llr, bin_edges) - 1\n",
    "\n",
    "    # Handle edge cases\n",
    "    if bin_index < 0:\n",
    "        bin_index = 0\n",
    "    elif bin_index >= len(bin_edges) - 1:\n",
    "        bin_index = len(bin_edges) - 2\n",
    "\n",
    "    # Convert bin_index to string (as that's how it's stored in bin_stats)\n",
    "    bin_index_str = str(bin_index)\n",
    "    pathogenic_percentage = bin_stats[int(bin_index_str)]['path_pct']\n",
    "\n",
    "    return score_llr, pathogenic_percentage\n"
   ]
  },
  {
   "cell_type": "code",
   "execution_count": 17,
   "id": "9e8510f5",
   "metadata": {},
   "outputs": [],
   "source": [
    "import pandas as pd\n",
    "# df = pd.read_parquet(r\"c:\\Users\\sapir\\out_of_onedrive\\dina\\entropy-missense-prediction\\resources\\2_sort_runnings\\preprocessed_P53_HUMAN.parquet\")\n",
    "df = pd.read_parquet(r\"C:\\Users\\sapir\\out_of_onedrive\\dina\\entropy-missense-prediction\\resources\\2_long_proteins\\preprocessed_SCN1A_HUMAN.parquet\")"
   ]
  },
  {
   "cell_type": "code",
   "execution_count": 22,
   "id": "cf161cb4",
   "metadata": {},
   "outputs": [
    {
     "data": {
      "text/html": [
       "<div>\n",
       "<style scoped>\n",
       "    .dataframe tbody tr th:only-of-type {\n",
       "        vertical-align: middle;\n",
       "    }\n",
       "\n",
       "    .dataframe tbody tr th {\n",
       "        vertical-align: top;\n",
       "    }\n",
       "\n",
       "    .dataframe thead th {\n",
       "        text-align: right;\n",
       "    }\n",
       "</style>\n",
       "<table border=\"1\" class=\"dataframe\">\n",
       "  <thead>\n",
       "    <tr style=\"text-align: right;\">\n",
       "      <th></th>\n",
       "      <th>wt_aa</th>\n",
       "      <th>position</th>\n",
       "      <th>mt_aa</th>\n",
       "      <th>pathogenic_label</th>\n",
       "      <th>Gold_Stars</th>\n",
       "      <th>NumberSubmitters</th>\n",
       "      <th>Starred_Coarse_Grained_Clin_Sig</th>\n",
       "      <th>frequency_gv2</th>\n",
       "      <th>frequency_gv3</th>\n",
       "      <th>evolutionary_index_ASM</th>\n",
       "      <th>...</th>\n",
       "      <th>lp_acmg_model</th>\n",
       "      <th>coarse_clinical_significance_post</th>\n",
       "      <th>clinical_significance_post</th>\n",
       "      <th>model_disagreement</th>\n",
       "      <th>CV_label_and_model_combined_with_other_evidence_disagreement</th>\n",
       "      <th>starred_label_and_model_disagreement</th>\n",
       "      <th>starred_label_and_model_combined_with_other_evidence_disagreement</th>\n",
       "      <th>mutant</th>\n",
       "      <th>protein_sequence</th>\n",
       "      <th>protein_name</th>\n",
       "    </tr>\n",
       "  </thead>\n",
       "  <tbody>\n",
       "    <tr>\n",
       "      <th>40175</th>\n",
       "      <td>K</td>\n",
       "      <td>2009</td>\n",
       "      <td>S</td>\n",
       "      <td>None</td>\n",
       "      <td>NaN</td>\n",
       "      <td>NaN</td>\n",
       "      <td>None</td>\n",
       "      <td>NaN</td>\n",
       "      <td>NaN</td>\n",
       "      <td>NaN</td>\n",
       "      <td>...</td>\n",
       "      <td>False</td>\n",
       "      <td>None</td>\n",
       "      <td>None</td>\n",
       "      <td>False</td>\n",
       "      <td>False</td>\n",
       "      <td>False</td>\n",
       "      <td>False</td>\n",
       "      <td>K2009S</td>\n",
       "      <td>MEQTVLVPPGPDSFNFFTRESLAAIERRIAEEKAKNPKPDKKDDDE...</td>\n",
       "      <td>SCN1A_HUMAN</td>\n",
       "    </tr>\n",
       "  </tbody>\n",
       "</table>\n",
       "<p>1 rows × 46 columns</p>\n",
       "</div>"
      ],
      "text/plain": [
       "      wt_aa  position mt_aa pathogenic_label  Gold_Stars  NumberSubmitters  \\\n",
       "40175     K      2009     S             None         NaN               NaN   \n",
       "\n",
       "      Starred_Coarse_Grained_Clin_Sig  frequency_gv2  frequency_gv3  \\\n",
       "40175                            None            NaN            NaN   \n",
       "\n",
       "       evolutionary_index_ASM  ...  lp_acmg_model  \\\n",
       "40175                     NaN  ...          False   \n",
       "\n",
       "       coarse_clinical_significance_post clinical_significance_post  \\\n",
       "40175                               None                       None   \n",
       "\n",
       "      model_disagreement  \\\n",
       "40175              False   \n",
       "\n",
       "      CV_label_and_model_combined_with_other_evidence_disagreement  \\\n",
       "40175                                              False             \n",
       "\n",
       "      starred_label_and_model_disagreement  \\\n",
       "40175                                False   \n",
       "\n",
       "      starred_label_and_model_combined_with_other_evidence_disagreement  \\\n",
       "40175                                              False                  \n",
       "\n",
       "       mutant                                   protein_sequence protein_name  \n",
       "40175  K2009S  MEQTVLVPPGPDSFNFFTRESLAAIERRIAEEKAKNPKPDKKDDDE...  SCN1A_HUMAN  \n",
       "\n",
       "[1 rows x 46 columns]"
      ]
     },
     "execution_count": 22,
     "metadata": {},
     "output_type": "execute_result"
    }
   ],
   "source": [
    "# df.mutant = K2009S  Score LLR: -0.718459963798523, Pathogenic Percentage: 0.79%\n",
    "df[df['mutant'] == 'K2009S']"
   ]
  },
  {
   "cell_type": "code",
   "execution_count": 9,
   "id": "9447ce0d",
   "metadata": {},
   "outputs": [],
   "source": [
    "seq = \"MEEPQSDPSVEPPLSQETFSDLWKLLPENNVLSPLPSQAMDDLMLSPDDIEQWFTEDPGPDEAPRMPEAAPPVAPAPAAPTPAAPAPAPSWPLSSSVPSQKTYQGSYGFRLGFLHSGTAKSVTCTYSPALNKMFCQLAKTCPVQLWVDSTPPPGTRVRAMAIYKQSQHMTEVVRRCPHHERCSDSDGLAPPQHLIRVEGNLRVEYLDDRNTFRHSVVVPYEPPEVGSDCTTIHYNYMCNSSCMGGMNRRPILTIITLEDSSGNLLGRNSFEVRVCACPGRDRRTEEENLRKKGEPHHELPPGSTKRALPNNTSSSPQPKKKPLDGEYFTLQIRGRERFEMFRELNEALELKDAQAGKEPGGSRAHSSHLKSKKGQSTSRHKKLMFKTEGPDSD\"\n",
    "mutation = \"M1A\"\n",
    "# esm_model_name = \"esm1b_t33_650M_UR50S\"\n",
    "esm_model_name = \"esm1_t6_43M_UR50S\""
   ]
  },
  {
   "cell_type": "code",
   "execution_count": 10,
   "id": "11fb8a8b",
   "metadata": {},
   "outputs": [
    {
     "name": "stderr",
     "output_type": "stream",
     "text": [
      "Using cache found in C:\\Users\\sapir/.cache\\torch\\hub\\facebookresearch_esm_main\n"
     ]
    },
    {
     "name": "stdout",
     "output_type": "stream",
     "text": [
      "model loaded on cpu\n"
     ]
    }
   ],
   "source": [
    "orig_model, orig_alphabet = utils.esm_setup(esm_model_name, device=d.DEVICE)"
   ]
  },
  {
   "cell_type": "code",
   "execution_count": null,
   "id": "c77f752a",
   "metadata": {},
   "outputs": [],
   "source": []
  },
  {
   "cell_type": "code",
   "execution_count": null,
   "id": "9eaeaebe",
   "metadata": {},
   "outputs": [],
   "source": [
    "mutation_variant_set = run_esm(orig_model, orig_alphabet, [33], seq, mutation, esm_model_name)\n",
    "\n",
    "leaf_best_scores = {\n",
    "    'all/homologs_0_to_450/disordered/longer_than_1022': ['wt_marginals_base_wt_score_126', mutation_variant_set.wt.nadav_base_wt_score.item()],\n",
    "    'all/homologs_0_to_450/disordered/shorter_than_1022': ['masked_marginals_entropy_weighted_llr_score_142', mutation_variant_set.masked.entropy_weighted_llr_score.item()],\n",
    "    'all/homologs_0_to_450/ordered/longer_than_1022': ['wt_marginals_base_wt_score_200', mutation_variant_set.wt.nadav_base_wt_score.item()],\n",
    "    'all/homologs_0_to_450/ordered/shorter_than_1022': ['mutant_marginals_entropy_weighted_llr_score_200', mutation_variant_set.mutante.entropy_weighted_llr_score.item()],\n",
    "    'all/homologs_450_plus/disordered/longer_than_1022': ['wt_not_nadav_marginals_base_wt_score_203', mutation_variant_set.wt.llr_base_score.item()],\n",
    "    'all/homologs_450_plus/disordered/shorter_than_1022': ['wt_not_nadav_marginals_base_wt_score_77', mutation_variant_set.wt.llr_base_score.item()],\n",
    "    'all/homologs_450_plus/ordered/longer_than_1022': ['mutant_marginals_entropy_weighted_llr_score_200', mutation_variant_set.mutante.entropy_weighted_llr_score.item()],\n",
    "    'all/homologs_450_plus/ordered/shorter_than_1022': ['masked_marginals_entropy_weighted_llr_score_200', mutation_variant_set.masked.entropy_weighted_llr_score.item()],\n",
    "}"
   ]
  },
  {
   "cell_type": "code",
   "execution_count": 13,
   "id": "31c27e2d",
   "metadata": {},
   "outputs": [],
   "source": [
    "data_path = 'data/new_clusters_sequences.parquet'\n",
    "# homolog_count = get_cluster_sizes_of_sequence(seq, 'data', 'parquet')"
   ]
  },
  {
   "cell_type": "code",
   "execution_count": null,
   "id": "9bfc5f05",
   "metadata": {},
   "outputs": [],
   "source": [
    "\n",
    "\n",
    "aa_mut = utils.process_mutation_name(mutation, offset=1)\n",
    "is_disorder_region = is_disordered(seq, aa_mut.mut_idx)\n",
    "tree_path_key = utils.classify_mutation_to_tree_path(\n",
    "    homolog_count=300,\n",
    "    is_disordered=is_disorder_region,\n",
    "    sequence_length=len(seq)\n",
    ")"
   ]
  },
  {
   "cell_type": "code",
   "execution_count": null,
   "id": "0f897903",
   "metadata": {},
   "outputs": [
    {
     "name": "stdout",
     "output_type": "stream",
     "text": [
      "Tree Path Key: all/homologs_0_to_450/disordered/shorter_than_1022\n",
      "Score LLR: -4.033759117126465, Pathogenic Percentage: 52.82%\n"
     ]
    }
   ],
   "source": [
    "with open(d.PATH_TO_BIN_DICT, \"rb\") as f:\n",
    "    bins_dict = pickle.load(f)\n",
    "\n",
    "score_llr, pathogenic_percentage = get_pathogenic_percentage(tree_path_key, leaf_best_scores, bins_dict)\n",
    "print(f\"Tree Path Key: {tree_path_key}\")\n",
    "print(f\"Score LLR: {score_llr}, Pathogenic Percentage: {pathogenic_percentage:.2f}%\")"
   ]
  },
  {
   "cell_type": "code",
   "execution_count": 1,
   "id": "2131186b",
   "metadata": {},
   "outputs": [
    {
     "name": "stdout",
     "output_type": "stream",
     "text": [
      "5\n"
     ]
    }
   ],
   "source": [
    "print(5)"
   ]
  },
  {
   "cell_type": "code",
   "execution_count": null,
   "id": "674f2d04",
   "metadata": {},
   "outputs": [],
   "source": []
  }
 ],
 "metadata": {
  "kernelspec": {
   "display_name": "env_image_processing",
   "language": "python",
   "name": "python3"
  },
  "language_info": {
   "codemirror_mode": {
    "name": "ipython",
    "version": 3
   },
   "file_extension": ".py",
   "mimetype": "text/x-python",
   "name": "python",
   "nbconvert_exporter": "python",
   "pygments_lexer": "ipython3",
   "version": "3.11.11"
  }
 },
 "nbformat": 4,
 "nbformat_minor": 5
}
